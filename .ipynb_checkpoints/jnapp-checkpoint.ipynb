{
 "cells": [
  {
   "cell_type": "code",
   "execution_count": 1,
   "metadata": {},
   "outputs": [],
   "source": [
    "from flask import Flask, request, jsonify, render_template\n",
    "import os"
   ]
  },
  {
   "cell_type": "code",
   "execution_count": 2,
   "metadata": {},
   "outputs": [],
   "source": [
    "import tensorflow_hub as hub\n",
    "import tensorflow as tf\n",
    "from tensorflow.keras.layers import TextVectorization\n",
    "from sklearn.preprocessing import LabelEncoder\n",
    "from spacy.lang.en import English"
   ]
  },
  {
   "cell_type": "code",
   "execution_count": 3,
   "metadata": {},
   "outputs": [],
   "source": [
    "loaded_model = tf.keras.models.load_model(\"skimlit_tribrid_model/\")"
   ]
  },
  {
   "cell_type": "code",
   "execution_count": 4,
   "metadata": {},
   "outputs": [],
   "source": [
    "app = Flask(__name__, template_folder='templates',static_folder='./templates')"
   ]
  },
  {
   "cell_type": "code",
   "execution_count": 5,
   "metadata": {},
   "outputs": [],
   "source": [
    "@app.route('/')\n",
    "@app.route('/index')\n",
    "def index():\n",
    "    return render_template('index.html')"
   ]
  },
  {
   "cell_type": "code",
   "execution_count": 6,
   "metadata": {},
   "outputs": [],
   "source": [
    "def split_chars(text):\n",
    "    return \" \".join(list(text))\n",
    "\n",
    "def predictor(data):\n",
    "    label_encoder = LabelEncoder()\n",
    "    labels = ['OBJECTIVE', 'METHODS', 'RESULTS', 'CONCLUSIONS','BACKGROUND']\n",
    "    labels = label_encoder.fit_transform(labels)\n",
    "    abstract1 = data\n",
    "    nlp = English() \n",
    "    sentencizer = nlp.create_pipe(\"sentencizer\") \n",
    "    nlp.add_pipe('sentencizer') \n",
    "    doc = nlp(abstract1) \n",
    "    abstract_lines = [str(sent) for sent in list(doc.sents)]\n",
    "    total_lines_in_sample = len(abstract_lines)\n",
    "    sample_lines = []\n",
    "    for i, line in enumerate(abstract_lines):\n",
    "        sample_dict = {}\n",
    "        sample_dict[\"text\"] = str(line)\n",
    "        sample_dict[\"line_number\"] = i\n",
    "        sample_dict[\"total_lines\"] = total_lines_in_sample - 1\n",
    "        sample_lines.append(sample_dict)\n",
    "    test_abstract_line_numbers = [line[\"line_number\"] for line in sample_lines]\n",
    "    test_abstract_line_numbers_one_hot = tf.one_hot(test_abstract_line_numbers, depth=15) \n",
    "    test_abstract_total_lines = [line[\"total_lines\"] for line in sample_lines]\n",
    "    test_abstract_total_lines_one_hot = tf.one_hot(test_abstract_total_lines, depth=20)\n",
    "    abstract_chars = [split_chars(sentence) for sentence in abstract_lines]\n",
    "    test_abstract_pred_probs = loaded_model.predict(x=(test_abstract_line_numbers_one_hot,\n",
    "                                                   test_abstract_total_lines_one_hot,\n",
    "                                                   tf.constant(abstract_lines),\n",
    "                                                   tf.constant(abstract_chars)))\n",
    "    test_abstract_preds = tf.argmax(test_abstract_pred_probs, axis=1)\n",
    "    test_abstract_pred_classes = [label_encoder.classes_[i] for i in test_abstract_preds]\n",
    "    o = ''\n",
    "    m = ''\n",
    "    r = ''\n",
    "    c = ''\n",
    "    b = ''\n",
    "    for i, line in enumerate(abstract_lines):\n",
    "        if(test_abstract_pred_classes[i]) == 'OBJECTIVE':\n",
    "            o = o + line + ' '\n",
    "        elif(test_abstract_pred_classes[i]) == 'METHODS':\n",
    "            m = m + line + ' '\n",
    "        elif(test_abstract_pred_classes[i]) == 'RESULTS':\n",
    "            r = r + line + ' '\n",
    "        elif(test_abstract_pred_classes[i]) == 'CONCLUSIONS':\n",
    "            c = c + line + ' '\n",
    "        elif(test_abstract_pred_classes[i]) == 'BACKGROUND':\n",
    "            b = b + line + ' '\n",
    "    if(len(o)) > 0:\n",
    "        o = o\n",
    "    else:\n",
    "        o = 'Objective Not Found'\n",
    "    if(len(m)) > 0:\n",
    "        m=m\n",
    "    else:\n",
    "        m = 'Method Not Found'\n",
    "    if(len(r)) > 0:\n",
    "        r=r\n",
    "    else:\n",
    "        r = 'Results Not Found'\n",
    "    if(len(c)) > 0:\n",
    "        c=c\n",
    "    else:\n",
    "        c = 'Conclusion Not Found'\n",
    "    if(len(b)) > 0:\n",
    "        b=b\n",
    "    else:\n",
    "        b = 'Background Not Found'\n",
    "    return (o,m,r,c,b)"
   ]
  },
  {
   "cell_type": "code",
   "execution_count": 7,
   "metadata": {},
   "outputs": [],
   "source": [
    "@app.route('/result', methods = ['POST', 'GET'])\n",
    "def result():\n",
    "    string2 = request.form[\"paragraph_text\"]\n",
    "    objective,method,result,conclusion,background = predictor(string2)\n",
    "    return render_template('result.html',objective = objective,method=method,result=result,conclusion=conclusion,background=background)   "
   ]
  },
  {
   "cell_type": "code",
   "execution_count": null,
   "metadata": {},
   "outputs": [
    {
     "name": "stdout",
     "output_type": "stream",
     "text": [
      " * Serving Flask app \"__main__\" (lazy loading)\n",
      " * Environment: production\n",
      "\u001b[31m   WARNING: This is a development server. Do not use it in a production deployment.\u001b[0m\n",
      "\u001b[2m   Use a production WSGI server instead.\u001b[0m\n",
      " * Debug mode: off\n"
     ]
    },
    {
     "name": "stderr",
     "output_type": "stream",
     "text": [
      " * Running on http://127.0.0.1:5000/ (Press CTRL+C to quit)\n",
      "127.0.0.1 - - [12/Dec/2021 13:40:08] \"\u001b[37mGET / HTTP/1.1\u001b[0m\" 200 -\n",
      "127.0.0.1 - - [12/Dec/2021 13:40:09] \"\u001b[33mGET /style.css HTTP/1.1\u001b[0m\" 404 -\n",
      "127.0.0.1 - - [12/Dec/2021 13:40:10] \"\u001b[33mGET /style.css HTTP/1.1\u001b[0m\" 404 -\n",
      "127.0.0.1 - - [12/Dec/2021 13:40:23] \"\u001b[37mPOST /result HTTP/1.1\u001b[0m\" 200 -\n",
      "127.0.0.1 - - [12/Dec/2021 13:40:23] \"\u001b[33mGET /style.css HTTP/1.1\u001b[0m\" 404 -\n"
     ]
    }
   ],
   "source": [
    "if __name__ == '__main__':\n",
    "    app.run()"
   ]
  },
  {
   "cell_type": "code",
   "execution_count": null,
   "metadata": {},
   "outputs": [],
   "source": [
    "This RCT examined the efficacy of a manualized social intervention for children with HFASDs. Participants were randomly assigned to treatment or wait-list conditions. Treatment included instruction and therapeutic activities targeting social skills, face-emotion recognition, interest expansion, and interpretation of non-literal language. A response-cost program was applied to reduce problem behaviors and foster skills acquisition. Significant treatment effects were found for five of seven primary outcome measures (parent ratings and direct child measures). Secondary measures based on staff ratings (treatment group only) corroborated gains reported by parents. High levels of parent, child and staff satisfaction were reported, along with high levels of treatment fidelity. Standardized effect size estimates were primarily in the medium and large ranges and favored the treatment group."
   ]
  }
 ],
 "metadata": {
  "kernelspec": {
   "display_name": "Python 3",
   "language": "python",
   "name": "python3"
  },
  "language_info": {
   "codemirror_mode": {
    "name": "ipython",
    "version": 3
   },
   "file_extension": ".py",
   "mimetype": "text/x-python",
   "name": "python",
   "nbconvert_exporter": "python",
   "pygments_lexer": "ipython3",
   "version": "3.8.3"
  }
 },
 "nbformat": 4,
 "nbformat_minor": 4
}
